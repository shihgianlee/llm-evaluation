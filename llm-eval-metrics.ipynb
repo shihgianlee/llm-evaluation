{
 "cells": [
  {
   "cell_type": "markdown",
   "id": "4f0a6a3f27bb3181",
   "metadata": {},
   "source": [
    "### [BLEU](https://huggingface.co/spaces/evaluate-metric/bleu)\n",
    "* BLEU (Bilingual Evaluation Understudy) is a metric originally designed for evaluating machine translation models by comparing generated text to reference translations. It measures the overlap of n-grams between the generated output and the reference texts while applying a brevity penalty to discourage excessively short translations. BLEU ranges from 0 to 1, where a higher score indicates better similarity to the reference.\n",
    "\n",
    "* n-gram:\n",
    "  - max_order (int): Maximum n-gram order to use when computing BLEU score. Defaults to 4.\n",
    "\n",
    "#### Tutorial\n",
    "* [What is BLEU metric?](https://www.youtube.com/watch?v=M05L1DhFqcw)\n",
    "\n",
    "\n",
    "* [BLEU examples with step-by-step calculation](https://docs.kolena.com/metrics/bleu/)\n",
    "\n",
    "* ```json\n",
    "   {\n",
    "     'bleu': 0.40548013303822666,   // Geometric mean of n-gram (4) precisions\n",
    "     'precisions': [0.6666666666666666, 0.4, 0.25], # 1-gram, 2-gram, 3-gram, 4-gram\n",
    "     'brevity_penalty': 1.0,\n",
    "     'length_ratio': 2.0,\n",
    "     'translation_length': 6,\n",
    "     'reference_length': 3\n",
    "   }\n",
    "  ```\n",
    "#### Limitations of BLEU\n",
    "* BLEU compares overlap in tokens from the predictions and references, instead of comparing meaning. This can lead to discrepancies between BLEU scores and human ratings.\n",
    "\n",
    "* Doesn't incorporate sentence structure.\n",
    "  - Shorter predicted translations achieve higher scores than longer ones, simply due to how the score is calculated. A brevity penalty is introduced to attempt to counteract this.\n",
    "\n",
    "* BLEU favors precision over recall.\n",
    "  - If we have two sentences \"The quick brown fox jumps over the lazy dog. It was a sunny day.\" (Reference) and \"The quick brown fox jumps over the lazy dog.\" (Candidate), BLEU would yield a good scores on what it does extract, but it won't effectively punish it for what it fails to extract.\n",
    "\n",
    "* BLEU scores are not comparable across different datasets, nor are they comparable across different languages.\n",
    "\n",
    "* BLEU scores can vary greatly depending on which parameters are used to generate the scores, especially when different tokenization and normalization techniques are used. It is therefore not possible to compare BLEU scores generated using different parameters, or when these parameters are unknown. For more discussion around this topic, see the following [issue](https://github.com/huggingface/datasets/issues/137).\n"
   ]
  },
  {
   "metadata": {
    "ExecuteTime": {
     "end_time": "2025-08-10T17:57:40.280687Z",
     "start_time": "2025-08-10T17:57:39.487629Z"
    }
   },
   "cell_type": "code",
   "source": [
    "import evaluate\n",
    "from nltk.tokenize import word_tokenize\n",
    "\n",
    "bleu = evaluate.load(\"bleu\")"
   ],
   "id": "8774195bf2b6b6ff",
   "outputs": [],
   "execution_count": 2
  },
  {
   "metadata": {
    "ExecuteTime": {
     "end_time": "2025-08-10T17:57:45.673999Z",
     "start_time": "2025-08-10T17:57:45.634384Z"
    }
   },
   "cell_type": "code",
   "source": [
    "# Generated text from LLM\n",
    "predictions = [\"The quick brown fox jumps over the lazy dog.\"]\n",
    "\n",
    "# Reference texts (ground truth responses)\n",
    "references = [[\"The quick brown fox jumps over the lazy dog. It is a good day to fly.\"]]\n",
    "\n",
    "bleu.compute(predictions=predictions, references=references, tokenizer=word_tokenize)"
   ],
   "id": "85894be2367c062a",
   "outputs": [
    {
     "data": {
      "text/plain": [
       "{'bleu': 0.4493289641172217,\n",
       " 'precisions': [1.0, 1.0, 1.0, 1.0],\n",
       " 'brevity_penalty': 0.4493289641172217,\n",
       " 'length_ratio': 0.5555555555555556,\n",
       " 'translation_length': 10,\n",
       " 'reference_length': 18}"
      ]
     },
     "execution_count": 3,
     "metadata": {},
     "output_type": "execute_result"
    }
   ],
   "execution_count": 3
  },
  {
   "cell_type": "markdown",
   "id": "7453b5b4f2461ff3",
   "metadata": {},
   "source": [
    "#### Sacrebleu\n",
    "* Recommended to address tokenization limitations with bleu.\n",
    "\n",
    "* ```json\n",
    "  {'score': 32.46679154750991,  // Ranges between 0 and 100 with 100 being identical.\n",
    "   'counts': [4, 2, 1, 0],\n",
    "   'totals': [6, 5, 4, 3],\n",
    "   'precisions': [66.66666666666667, 40.0, 25.0, 16.666666666666668],\n",
    "   'bp': 1.0,\n",
    "   'sys_len': 6,\n",
    "   'ref_len': 5}\n",
    "  ```"
   ]
  },
  {
   "metadata": {
    "ExecuteTime": {
     "end_time": "2025-08-10T17:57:56.645391Z",
     "start_time": "2025-08-10T17:57:56.026287Z"
    }
   },
   "cell_type": "code",
   "source": [
    "# Generated text from LLM\n",
    "predictions = [\"The quick brown fox jumps over the lazy dog.\"]\n",
    "\n",
    "# Reference texts (ground truth responses)\n",
    "references = [[\"The quick brown fox jumps over the lazy dog. It is a good day to fly.\"]]\n",
    "\n",
    "sacrebleu = evaluate.load(\"sacrebleu\")\n",
    "sacrebleu.compute(predictions=predictions, references=references)  # No need to pass in tokenizer. sacrebleu has its own tokenizer."
   ],
   "id": "cae60fee8e729415",
   "outputs": [
    {
     "data": {
      "text/plain": [
       "{'score': 44.932896411722176,\n",
       " 'counts': [10, 9, 8, 7],\n",
       " 'totals': [10, 9, 8, 7],\n",
       " 'precisions': [100.0, 100.0, 100.0, 100.0],\n",
       " 'bp': 0.44932896411722156,\n",
       " 'sys_len': 10,\n",
       " 'ref_len': 18}"
      ]
     },
     "execution_count": 4,
     "metadata": {},
     "output_type": "execute_result"
    }
   ],
   "execution_count": 4
  },
  {
   "cell_type": "markdown",
   "id": "ae5b649833bfc8b6",
   "metadata": {},
   "source": [
    "### [METEOR](https://huggingface.co/spaces/evaluate-metric/meteor)\n",
    "* METEOR (Metric for Evaluation of Translation with Explicit ORdering)\n",
    "METEOR is an NLP evaluation metric designed to improve upon BLEU by incorporating semantic matching, stemming, synonyms, and recall in addition to n-gram precision. Unlike BLEU, which focuses purely on n-gram overlap, METEOR allows for flexible matching by considering variations of words.\n",
    "\n",
    "#### Tutorial\n",
    "* [METEOR: A metric for Machine Translation](https://www.youtube.com/watch?v=FqQbrlEh_b0)\n",
    "\n",
    "* [METEOR examples with step-by-step calculation](https://docs.kolena.com/metrics/meteor/)\n",
    "\n",
    "#### Limitations and Biases\n",
    "Although METEOR was created to address some of the major limitations of BLEU, it still comes with its own limitations.\n",
    "\n",
    "* METEOR can fail on context. If we have two sentences \"I am a big fan of Taylor Swift\" (Reference) and \"Fan of Taylor Swift I am big\" (Candidate), METEOR would yield a good score. However, the candidate sentence makes little sense and intuitively shouldn't be given a good score. This is a limitation with all n-gram metrics, and not specific to METEOR."
   ]
  },
  {
   "metadata": {
    "ExecuteTime": {
     "end_time": "2025-08-10T17:58:04.377516Z",
     "start_time": "2025-08-10T17:58:03.666211Z"
    }
   },
   "cell_type": "code",
   "source": "meteor = evaluate.load(\"meteor\")",
   "id": "57f7374e5084275",
   "outputs": [
    {
     "name": "stderr",
     "output_type": "stream",
     "text": [
      "[nltk_data] Downloading package wordnet to /Users/sglee/nltk_data...\n",
      "[nltk_data]   Package wordnet is already up-to-date!\n",
      "[nltk_data] Downloading package punkt_tab to /Users/sglee/nltk_data...\n",
      "[nltk_data]   Package punkt_tab is already up-to-date!\n",
      "[nltk_data] Downloading package omw-1.4 to /Users/sglee/nltk_data...\n",
      "[nltk_data]   Package omw-1.4 is already up-to-date!\n"
     ]
    }
   ],
   "execution_count": 5
  },
  {
   "metadata": {
    "ExecuteTime": {
     "end_time": "2025-08-10T17:58:05.950213Z",
     "start_time": "2025-08-10T17:58:05.939198Z"
    }
   },
   "cell_type": "code",
   "source": [
    "# Generated text from LLM\n",
    "predictions = [\"The quick brown fox jumps over the lazy dog.\"]\n",
    "\n",
    "# Reference texts (ground truth responses)\n",
    "references = [[\"The quick brown fox jumps over the lazy dog. It is a good day to fly.\"]]\n",
    "\n",
    "meteor.compute(predictions=predictions, references=references)  # No need to pass in tokenizer. sacrebleu has its own tokenizer."
   ],
   "id": "c891e7c9b1593038",
   "outputs": [
    {
     "data": {
      "text/plain": [
       "{'meteor': 0.5790697674418605}"
      ]
     },
     "execution_count": 6,
     "metadata": {},
     "output_type": "execute_result"
    }
   ],
   "execution_count": 6
  },
  {
   "metadata": {
    "ExecuteTime": {
     "end_time": "2025-08-10T17:58:07.447336Z",
     "start_time": "2025-08-10T17:58:07.435713Z"
    }
   },
   "cell_type": "code",
   "source": [
    "# Generated text from LLM\n",
    "predictions = [\"Fan of Taylor Swift I am big\"]\n",
    "\n",
    "# Reference texts (ground truth responses)\n",
    "references = [[\"I am a big fan of Taylor Swift\"]]\n",
    "\n",
    "meteor.compute(predictions=predictions, references=references)  # No need to pass in tokenizer. sacrebleu has its own tokenizer."
   ],
   "id": "8c523520b2d03ddd",
   "outputs": [
    {
     "data": {
      "text/plain": [
       "{'meteor': 0.8512012399896667}"
      ]
     },
     "execution_count": 7,
     "metadata": {},
     "output_type": "execute_result"
    }
   ],
   "execution_count": 7
  },
  {
   "metadata": {},
   "cell_type": "markdown",
   "source": [
    "### [ROUGE](https://huggingface.co/spaces/evaluate-metric/rouge)\n",
    "* ROUGE (Recall-Oriented Understudy for Gisting Evaluation) is a set of metrics designed to evaluate text summarization and text generation models by comparing the overlap of n-grams, word sequences, and longest common subsequences between the generated text and reference texts. Unlike BLEU, which is precision-focused, ROUGE emphasizes recall, making it more suitable for tasks where capturing the full meaning is important.\n",
    "\n",
    "* Note that ROUGE is case-insensitive, meaning that upper case letters are treated the same way as lower case letters.\n",
    "\n",
    "* Valid rouge_types:\n",
    "  - \"rouge1\": unigram (1-gram) based scoring\n",
    "  - \"rouge2\": bigram (2-gram) based scoring\n",
    "  - \"rougeL\": Longest common subsequence based scoring.\n",
    "  - \"rougeLSum\": splits text using \"\\n\"\n",
    "\n",
    "#### Tutorial\n",
    "* [What is ROUGE metric?](https://www.youtube.com/watch?v=TMshhnrEXlg)\n",
    "\n",
    "* [ROUGE-N examples with step-by-step calculation](https://docs.kolena.com/metrics/rouge-n/)\n",
    "\n",
    "* [Mastering ROUGE Matrix: Your Guide to Large Language Model Evaluation for Summarization with Examples](https://dev.to/aws-builders/mastering-rouge-matrix-your-guide-to-large-language-model-evaluation-for-summarization-with-examples-jjg)\n",
    "\n",
    "#### Limitations and Biases\n",
    "ROUGE-N, like any other n-gram based metric, suffers from the following limitations:\n",
    "\n",
    "* Unlike BERTScore, ROUGE-N is not able to consider order, context, or semantics when calculating a score. Since it only relies on overlapping n-grams, it can not tell when a synonym is being used or if the placement of two matching n-grams have any meaning on the overall sentence. As a result, the metric may not be a perfect representation of the quality of the text, but rather the \"likeness\" of the n-grams in two sentences. Take for example, the ROUGE-2 score of \"This is an example of text\" and \"Is an example of text this\". Both ROUGE-1 and ROUGE-2 would give this a (nearly) perfect score, but the second sentence makes absolutely no sense!\n",
    "\n",
    "* ROUGE-N can not capture global coherence. Given a long paragraph, realistically, having too large of a value for N would not return a meaningful score for two sentences, but having a reasonable number like N = 3 wouldn't be able to capture the flow of the text. The score might yield good results, but the entire paragraph might not flow smoothly at all. This is a weakness of n-gram based metrics, as they are limited to short context windows.\n",
    "\n",
    "* See [Schluter (2017)](https://aclanthology.org/E17-2007/) for an in-depth discussion of many of ROUGE’s limits."
   ],
   "id": "140846aceee49785"
  },
  {
   "metadata": {
    "ExecuteTime": {
     "end_time": "2025-08-10T17:58:17.197689Z",
     "start_time": "2025-08-10T17:58:16.632817Z"
    }
   },
   "cell_type": "code",
   "source": "rouge = evaluate.load(\"rouge\")",
   "id": "914ce8c2c891cfea",
   "outputs": [],
   "execution_count": 8
  },
  {
   "metadata": {
    "ExecuteTime": {
     "end_time": "2025-08-10T17:58:18.026347Z",
     "start_time": "2025-08-10T17:58:17.971504Z"
    }
   },
   "cell_type": "code",
   "source": [
    "# Generated text from LLM\n",
    "predictions = [\"The quick brown fox jumps over the lazy dog.\"]\n",
    "\n",
    "# Reference texts (ground truth responses)\n",
    "references = [[\"The quick brown fox jumps over the lazy dog. It is a good day to fly.\"]]\n",
    "\n",
    "rouge.compute(predictions=predictions, references=references)   # returns a dictionary of f1 scores"
   ],
   "id": "c8f0e6cc940ac5aa",
   "outputs": [
    {
     "data": {
      "text/plain": [
       "{'rouge1': 0.72,\n",
       " 'rouge2': 0.6956521739130436,\n",
       " 'rougeL': 0.72,\n",
       " 'rougeLsum': 0.72}"
      ]
     },
     "execution_count": 9,
     "metadata": {},
     "output_type": "execute_result"
    }
   ],
   "execution_count": 9
  },
  {
   "metadata": {
    "ExecuteTime": {
     "end_time": "2025-08-10T17:58:19.895704Z",
     "start_time": "2025-08-10T17:58:19.844427Z"
    }
   },
   "cell_type": "code",
   "source": [
    "# Generated text from LLM\n",
    "predictions = [\"Fan of Taylor Swift I am big\"]\n",
    "\n",
    "# Reference texts (ground truth responses)\n",
    "references = [[\"I am a big fan of Taylor Swift\"]]\n",
    "\n",
    "rouge.compute(predictions=predictions, references=references)   # returns a dictionary of f1 scores"
   ],
   "id": "89c07749d513cc2e",
   "outputs": [
    {
     "data": {
      "text/plain": [
       "{'rouge1': 0.9333333333333333,\n",
       " 'rouge2': 0.6153846153846153,\n",
       " 'rougeL': 0.5333333333333333,\n",
       " 'rougeLsum': 0.5333333333333333}"
      ]
     },
     "execution_count": 10,
     "metadata": {},
     "output_type": "execute_result"
    }
   ],
   "execution_count": 10
  },
  {
   "metadata": {},
   "cell_type": "markdown",
   "source": [
    "### BERTScore\n",
    "* BERTScore is an NLP evaluation metric that uses deep contextual embeddings (from models like BERT) to compare generated text with reference text. Unlike BLEU, ROUGE, or METEOR, which rely on n-gram overlap, BERTScore captures semantic similarity by computing token embeddings and measuring their alignment.\n",
    "\n",
    "#### Tutorial\n",
    "* [BERTScore For LLM Evaluation](https://www.comet.com/site/blog/bertscore-for-llm-evaluation/)\n",
    "\n",
    "* [BERTScore examples with step-by-step calculation](https://docs.kolena.com/metrics/bertscore/)\n",
    "\n",
    "#### Paper\n",
    "* [BERTScore: Evaluating Text Generation with BERT](https://iclr.cc/virtual_2020/poster_SkeHuCVFDr.html)\n",
    "\n",
    "#### Limitations and Biases\n",
    "BERTScore, originally designed to be a replacement to the BLEU score and other n-gram similarity metrics, is a powerful metric that closely aligns with human judgement. However, it comes with limitations.\n",
    "\n",
    "* BERTScore is computationally expensive. The default model (roberta-large) used to calculate BERTScore requires 1.4GB of weights to be stored, and requires a forward pass through the model in order to calculate the score. This may be computationally expensive for large datasets, compared to n-gram-based metrics which are straightforward and easy to compute. However, smaller distilled models like distilbert-base-uncased can be used instead to reduce the computational cost, at the cost of reduced alignment with human judgement.\n",
    "\n",
    "* BERTScore is calculated using a black-box pretrained model. The score can not be easily explained, as the embedding space of BERT is a dense and complex representation that is only understood by the model. Though the metric provides a numerical score, it does not explain how or why the particular score was assigned. In contrast, n-gram-based metrics can easily be calculated by inspection.\n"
   ],
   "id": "a05d88b903df80a"
  },
  {
   "metadata": {
    "ExecuteTime": {
     "end_time": "2025-08-10T17:58:26.702671Z",
     "start_time": "2025-08-10T17:58:26.028115Z"
    }
   },
   "cell_type": "code",
   "source": "bertscore = evaluate.load(\"bertscore\")",
   "id": "7cc86952bbf8bc52",
   "outputs": [],
   "execution_count": 11
  },
  {
   "metadata": {
    "ExecuteTime": {
     "end_time": "2025-08-10T17:58:28.491021Z",
     "start_time": "2025-08-10T17:58:27.579047Z"
    }
   },
   "cell_type": "code",
   "source": [
    "# device = torch.device(\"cuda:0\" if torch.cuda.is_available() else \"cuda:1\")    # if CUDA is available\n",
    "\n",
    "# Generated text from LLM\n",
    "predictions = [\"The quick brown fox jumps over the lazy dog.\"]\n",
    "\n",
    "# Reference texts (ground truth responses)\n",
    "references = [[\"The quick brown fox jumps over the lazy dog. It is a good day to fly.\"]]\n",
    "\n",
    "bertscore.compute(predictions=predictions, references=references, model_type=\"distilbert-base-uncased\", device='mps')   # mps is Mac M family GPU"
   ],
   "id": "9669ab7c2da288ba",
   "outputs": [
    {
     "data": {
      "text/plain": [
       "{'precision': [0.987000584602356],\n",
       " 'recall': [0.872553825378418],\n",
       " 'f1': [0.9262553453445435],\n",
       " 'hashcode': 'distilbert-base-uncased_L5_no-idf_version=0.3.12(hug_trans=4.55.0)'}"
      ]
     },
     "execution_count": 12,
     "metadata": {},
     "output_type": "execute_result"
    }
   ],
   "execution_count": 12
  },
  {
   "metadata": {
    "ExecuteTime": {
     "end_time": "2025-08-10T17:58:40.566773Z",
     "start_time": "2025-08-10T17:58:40.467257Z"
    }
   },
   "cell_type": "code",
   "source": [
    "# Generated text from LLM\n",
    "predictions = [\"Fan of Taylor Swift I am big\"]\n",
    "\n",
    "# Reference texts (ground truth responses)\n",
    "references = [[\"I am a big fan of Taylor Swift\"]]\n",
    "\n",
    "bertscore.compute(predictions=predictions, references=references, model_type=\"distilbert-base-uncased\", device='mps')   # mps is Mac M family GPU"
   ],
   "id": "500da7247e4c90e1",
   "outputs": [
    {
     "data": {
      "text/plain": [
       "{'precision': [0.8867292404174805],\n",
       " 'recall': [0.8649751543998718],\n",
       " 'f1': [0.8757171034812927],\n",
       " 'hashcode': 'distilbert-base-uncased_L5_no-idf_version=0.3.12(hug_trans=4.55.0)'}"
      ]
     },
     "execution_count": 13,
     "metadata": {},
     "output_type": "execute_result"
    }
   ],
   "execution_count": 13
  },
  {
   "metadata": {},
   "cell_type": "markdown",
   "source": [
    "### **Comparison: BERTScore vs. BLEU vs. ROUGE vs. METEOR**\n",
    "\n",
    "#### **1. Overview**\n",
    "| **Metric**  | **Focus** | **Best For** | **Key Features** |\n",
    "|------------|----------|-------------|------------------|\n",
    "| **BLEU**   | Precision | Machine Translation, Structured Outputs | Measures **n-gram overlap**, penalizes extra words, lacks recall. |\n",
    "| **ROUGE**  | Recall   | Summarization, Keyphrase Extraction | Measures **n-gram & longest common subsequence (LCS) overlap**, prioritizes recall. |\n",
    "| **METEOR** | Precision + Recall | Machine Translation, LLM Evaluation, Paraphrase Detection | Uses **stemming, synonyms, paraphrases**, recall-weighted F-score, penalizes word order errors. |\n",
    "| **BERTScore** | Semantic Similarity | Text Generation, Summarization, Paraphrasing, LLM Evaluation | Uses **pre-trained embeddings (BERT/RoBERTa)** for **meaning-based** comparison. |\n",
    "\n",
    "---\n",
    "\n",
    "#### **2. How They Work**\n",
    "| **Feature**  | **BLEU** | **ROUGE** | **METEOR** | **BERTScore** |\n",
    "|------------|--------|--------|--------|------------|\n",
    "| **N-gram Matching** | ✅ Yes (1-4 grams) | ✅ Yes (1-gram, 2-gram, etc.) | ✅ Yes (flexible n-gram) | ❌ No |\n",
    "| **Semantic Matching (Stemming, Synonyms, Paraphrases)** | ❌ No | ❌ No | ✅ Yes | ✅ Yes (via contextual embeddings) |\n",
    "| **Precision-Based** | ✅ Yes | ❌ No | ✅ Yes | ✅ Yes |\n",
    "| **Recall-Based** | ❌ No | ✅ Yes | ✅ Yes (weighted) | ✅ Yes |\n",
    "| **Word Order Sensitivity** | ❌ No | ⚠️ Partial (only in ROUGE-L) | ✅ Yes | ✅ Captures reordering effects |\n",
    "| **Contextual Understanding** | ❌ No | ❌ No | ⚠️ Limited | ✅ Yes (learns from BERT-like models) |\n",
    "| **Sentence-Level Evaluation** | ❌ No (works best at corpus level) | ⚠️ Some variants (ROUGE-L) | ✅ Yes | ✅ Yes |\n",
    "\n",
    "---\n",
    "\n",
    "#### **3. When to Use Each Metric**\n",
    "| **Use Case** | **Best Metric** | **Why?** |\n",
    "|-------------|--------------|--------|\n",
    "| **Machine Translation** | METEOR or BERTScore | METEOR handles synonyms; BERTScore captures meaning. |\n",
    "| **Summarization** | ROUGE or BERTScore | ROUGE captures recall; BERTScore understands reworded summaries. |\n",
    "| **LLM Response Evaluation** | BERTScore | BERTScore understands sentence meaning better than n-grams. |\n",
    "| **Code Generation / Structured Outputs** | BLEU | BLEU enforces **exact matches** for structured formats. |\n",
    "\n",
    "---"
   ],
   "id": "6446694a9db9104c"
  },
  {
   "metadata": {},
   "cell_type": "code",
   "source": "",
   "id": "f705f438c7177504",
   "outputs": [],
   "execution_count": null
  }
 ],
 "metadata": {
  "kernelspec": {
   "display_name": "Python 3 (ipykernel)",
   "language": "python",
   "name": "python3"
  },
  "language_info": {
   "codemirror_mode": {
    "name": "ipython",
    "version": 3
   },
   "file_extension": ".py",
   "mimetype": "text/x-python",
   "name": "python",
   "nbconvert_exporter": "python",
   "pygments_lexer": "ipython3",
   "version": "3.11.11"
  }
 },
 "nbformat": 4,
 "nbformat_minor": 5
}
